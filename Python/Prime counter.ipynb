{
 "cells": [
  {
   "cell_type": "code",
   "execution_count": 61,
   "metadata": {},
   "outputs": [
    {
     "name": "stdout",
     "output_type": "stream",
     "text": [
      "소수인지 아닌지 알고싶은 숫자를 입력하시오: 521\n",
      "YES\n"
     ]
    }
   ],
   "source": [
    "#원하는 숫자가 소수인지 아닌지 판별\n",
    "x=input('소수인지 아닌지 알고싶은 숫자를 입력하시오: ')\n",
    "x=int(x)\n",
    "for i1,v1 in enumerate(range(2,x)):\n",
    "    chk=True\n",
    "    if x%v1==0:\n",
    "        chk=False\n",
    "        print('NO')\n",
    "        break\n",
    "if chk:\n",
    "    print('YES')"
   ]
  },
  {
   "cell_type": "code",
   "execution_count": 18,
   "metadata": {
    "scrolled": true
   },
   "outputs": [
    {
     "name": "stdout",
     "output_type": "stream",
     "text": [
      "소수인지 아닌지 알고싶은 숫자를 입력하시오: 7\n",
      "YES\n"
     ]
    }
   ],
   "source": [
    "#소수판별 함수 만들기\n",
    "x=input('소수인지 아닌지 알고싶은 숫자를 입력하시오: ')\n",
    "x=int(x)\n",
    "\n",
    "def prime(x):\n",
    "    \n",
    "    for i,v in enumerate(range(2,x)):\n",
    "        chk=True\n",
    "        if x%v==0:\n",
    "            chk=False\n",
    "            print('NO')\n",
    "            break\n",
    "    if chk:\n",
    "        print('YES')\n",
    "prime(x)"
   ]
  },
  {
   "cell_type": "code",
   "execution_count": null,
   "metadata": {},
   "outputs": [],
   "source": [
    "#1~10에 있는 소수 찾기\n",
    "List=[]\n",
    "def prime():\n",
    "    \n",
    "    for i,v in enumerate(range(1,11)):\n",
    "        chk=True\n",
    "        for i1,v1 in enumerate(range(2,v)):\n",
    "            if x%v==0:\n",
    "                chk=False\n",
    "                print('NO')\n",
    "                break\n",
    "        if chk:\n",
    "            print('YES')\n",
    "List.append(prime(x))\n",
    "print(List)\n"
   ]
  },
  {
   "cell_type": "code",
   "execution_count": 4,
   "metadata": {},
   "outputs": [
    {
     "name": "stdout",
     "output_type": "stream",
     "text": [
      "2 3 5 7 [None]\n"
     ]
    }
   ],
   "source": [
    "List=[]\n",
    "def Prime():\n",
    "    for i in range(2,11):\n",
    "        chk=True\n",
    "        for j in range(2,i):\n",
    "            if i%j==0:\n",
    "                chk=False\n",
    "                break\n",
    "        if chk:\n",
    "            print(i, end=\" \")\n",
    "List.append(Prime())\n",
    "print(List)"
   ]
  },
  {
   "cell_type": "code",
   "execution_count": null,
   "metadata": {},
   "outputs": [],
   "source": []
  }
 ],
 "metadata": {
  "kernelspec": {
   "display_name": "Python 3",
   "language": "python",
   "name": "python3"
  },
  "language_info": {
   "codemirror_mode": {
    "name": "ipython",
    "version": 3
   },
   "file_extension": ".py",
   "mimetype": "text/x-python",
   "name": "python",
   "nbconvert_exporter": "python",
   "pygments_lexer": "ipython3",
   "version": "3.7.6"
  }
 },
 "nbformat": 4,
 "nbformat_minor": 4
}
