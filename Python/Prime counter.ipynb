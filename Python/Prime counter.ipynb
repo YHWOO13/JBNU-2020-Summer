{
 "cells": [
  {
   "cell_type": "code",
   "execution_count": 61,
   "metadata": {},
   "outputs": [
    {
     "name": "stdout",
     "output_type": "stream",
     "text": [
      "소수인지 아닌지 알고싶은 숫자를 입력하시오: 521\n",
      "YES\n"
     ]
    }
   ],
   "source": [
    "#원하는 숫자가 소수인지 아닌지 판별\n",
    "x=input('소수인지 아닌지 알고싶은 숫자를 입력하시오: ')\n",
    "x=int(x)\n",
    "for i1,v1 in enumerate(range(2,x)):\n",
    "    chk=True\n",
    "    if x%v1==0:\n",
    "        chk=False\n",
    "        print('NO')\n",
    "        break\n",
    "if chk:\n",
    "    print('YES')"
   ]
  },
  {
   "cell_type": "code",
   "execution_count": 18,
   "metadata": {
    "scrolled": true
   },
   "outputs": [
    {
     "name": "stdout",
     "output_type": "stream",
     "text": [
      "소수인지 아닌지 알고싶은 숫자를 입력하시오: 7\n",
      "YES\n"
     ]
    }
   ],
   "source": [
    "#소수판별 함수 만들기\n",
    "x=input('소수인지 아닌지 알고싶은 숫자를 입력하시오: ')\n",
    "x=int(x)\n",
    "\n",
    "def prime(x):\n",
    "    \n",
    "    for i,v in enumerate(range(2,x)):\n",
    "        chk=True\n",
    "        if x%v==0:\n",
    "            chk=False\n",
    "            print('NO')\n",
    "            break\n",
    "    if chk:\n",
    "        print('YES')\n",
    "prime(x)"
   ]
  },
  {
   "cell_type": "code",
   "execution_count": 23,
   "metadata": {},
   "outputs": [],
   "source": [
    "#1~10에 있는 소수 찾기\n",
    "\n",
    "\n",
    "def Prime():\n",
    "    List=[]\n",
    "    for i,v in enumerate(range(2,11)):\n",
    "        chk=True\n",
    "        for i1,v1 in enumerate(range(2,v)):\n",
    "            if v%v1==0:\n",
    "                chk=False\n",
    "                break\n",
    "        if chk:\n",
    "            print(v, end=\" \")\n",
    "            List.append(v)\n",
    "    return List"
   ]
  },
  {
   "cell_type": "code",
   "execution_count": 24,
   "metadata": {},
   "outputs": [
    {
     "name": "stdout",
     "output_type": "stream",
     "text": [
      "2 3 5 7 "
     ]
    },
    {
     "data": {
      "text/plain": [
       "[2, 3, 5, 7]"
      ]
     },
     "execution_count": 24,
     "metadata": {},
     "output_type": "execute_result"
    }
   ],
   "source": [
    "Prime()"
   ]
  },
  {
   "cell_type": "code",
   "execution_count": 1,
   "metadata": {},
   "outputs": [],
   "source": [
    "def Prime(x):\n",
    "    List=[]\n",
    "    for i,v in enumerate(range(2,x+1)):\n",
    "        chk=True\n",
    "        for i1,v1 in enumerate(range(2,v)):\n",
    "            if v%v1==0:\n",
    "                chk=False\n",
    "                break\n",
    "        if chk:\n",
    "            #print(v, end=\" \")\n",
    "            List.append(v)\n",
    "    return List"
   ]
  },
  {
   "cell_type": "code",
   "execution_count": 33,
   "metadata": {},
   "outputs": [
    {
     "name": "stdout",
     "output_type": "stream",
     "text": [
      "2 3 5 7 "
     ]
    },
    {
     "data": {
      "text/plain": [
       "[2, 3, 5, 7]"
      ]
     },
     "execution_count": 33,
     "metadata": {},
     "output_type": "execute_result"
    }
   ],
   "source": [
    "Prime(10)"
   ]
  },
  {
   "cell_type": "code",
   "execution_count": 2,
   "metadata": {},
   "outputs": [],
   "source": [
    "#Time함수\n",
    "\n",
    "import time\n",
    "import datetime"
   ]
  },
  {
   "cell_type": "code",
   "execution_count": 5,
   "metadata": {},
   "outputs": [
    {
     "name": "stdout",
     "output_type": "stream",
     "text": [
      "136.5245714187622\n"
     ]
    }
   ],
   "source": [
    "start_time = time.time()\n",
    "tmp = Prime(100000)\n",
    "end_time =  time.time() - start_time\n",
    "print(end_time)"
   ]
  },
  {
   "cell_type": "code",
   "execution_count": 6,
   "metadata": {},
   "outputs": [
    {
     "data": {
      "text/plain": [
       "1"
      ]
     },
     "execution_count": 6,
     "metadata": {},
     "output_type": "execute_result"
    }
   ],
   "source": [
    "1"
   ]
  },
  {
   "cell_type": "code",
   "execution_count": 7,
   "metadata": {},
   "outputs": [
    {
     "data": {
      "text/plain": [
       "'1'"
      ]
     },
     "execution_count": 7,
     "metadata": {},
     "output_type": "execute_result"
    }
   ],
   "source": [
    "'1'"
   ]
  },
  {
   "cell_type": "code",
   "execution_count": 9,
   "metadata": {},
   "outputs": [
    {
     "data": {
      "text/plain": [
       "'1'"
      ]
     },
     "execution_count": 9,
     "metadata": {},
     "output_type": "execute_result"
    }
   ],
   "source": [
    "#str함수\n",
    "\n",
    "str(1)"
   ]
  },
  {
   "cell_type": "code",
   "execution_count": null,
   "metadata": {},
   "outputs": [],
   "source": []
  }
 ],
 "metadata": {
  "kernelspec": {
   "display_name": "Python 3",
   "language": "python",
   "name": "python3"
  },
  "language_info": {
   "codemirror_mode": {
    "name": "ipython",
    "version": 3
   },
   "file_extension": ".py",
   "mimetype": "text/x-python",
   "name": "python",
   "nbconvert_exporter": "python",
   "pygments_lexer": "ipython3",
   "version": "3.7.6"
  }
 },
 "nbformat": 4,
 "nbformat_minor": 4
}
