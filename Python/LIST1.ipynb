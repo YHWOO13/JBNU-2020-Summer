{
 "cells": [
  {
   "cell_type": "code",
   "execution_count": 1,
   "metadata": {},
   "outputs": [],
   "source": [
    "# List\n",
    "buf = [1,2,3,4,5]\n",
    "#tuple\n",
    "# buf = (1,2,3,4,5)"
   ]
  },
  {
   "cell_type": "code",
   "execution_count": 4,
   "metadata": {},
   "outputs": [
    {
     "data": {
      "text/plain": [
       "1"
      ]
     },
     "execution_count": 4,
     "metadata": {},
     "output_type": "execute_result"
    }
   ],
   "source": [
    "# 리스트[]에서 index기준(0부터 시작)으로 뽑아온다.\n",
    "\n",
    "buf[0]"
   ]
  },
  {
   "cell_type": "code",
   "execution_count": 5,
   "metadata": {},
   "outputs": [
    {
     "data": {
      "text/plain": [
       "5"
      ]
     },
     "execution_count": 5,
     "metadata": {},
     "output_type": "execute_result"
    }
   ],
   "source": [
    "#길이함수 'len' \n",
    "\n",
    "len(buf)"
   ]
  },
  {
   "cell_type": "code",
   "execution_count": 6,
   "metadata": {},
   "outputs": [
    {
     "data": {
      "text/plain": [
       "0"
      ]
     },
     "execution_count": 6,
     "metadata": {},
     "output_type": "execute_result"
    }
   ],
   "source": [
    "list1 = []\n",
    "len(list1)"
   ]
  },
  {
   "cell_type": "code",
   "execution_count": 7,
   "metadata": {},
   "outputs": [],
   "source": [
    "list1.append(1)"
   ]
  },
  {
   "cell_type": "code",
   "execution_count": 8,
   "metadata": {},
   "outputs": [
    {
     "name": "stdout",
     "output_type": "stream",
     "text": [
      "[1]\n"
     ]
    }
   ],
   "source": [
    "print(list1)"
   ]
  },
  {
   "cell_type": "code",
   "execution_count": 18,
   "metadata": {},
   "outputs": [
    {
     "name": "stdout",
     "output_type": "stream",
     "text": [
      "[0, 1, 2, 3, 4, 5, 6, 7, 8, 9, 10]\n"
     ]
    }
   ],
   "source": [
    "List= []\n",
    "for i in range(0,11):\n",
    "    List.append(i)\n",
    "print(List)"
   ]
  },
  {
   "cell_type": "code",
   "execution_count": 28,
   "metadata": {},
   "outputs": [
    {
     "name": "stdout",
     "output_type": "stream",
     "text": [
      "i:  (0, 1) | i[0]:  0  | i[1]:  1\n",
      "i:  (1, 2) | i[0]:  1  | i[1]:  2\n",
      "i:  (2, 3) | i[0]:  2  | i[1]:  3\n",
      "i:  (3, 4) | i[0]:  3  | i[1]:  4\n",
      "i:  (4, 5) | i[0]:  4  | i[1]:  5\n",
      "i:  (5, 6) | i[0]:  5  | i[1]:  6\n",
      "i:  (6, 7) | i[0]:  6  | i[1]:  7\n",
      "i:  (7, 8) | i[0]:  7  | i[1]:  8\n",
      "i:  (8, 9) | i[0]:  8  | i[1]:  9\n",
      "i:  (9, 10) | i[0]:  9  | i[1]:  10\n",
      "[(0, 1), (1, 2), (2, 3), (3, 4), (4, 5), (5, 6), (6, 7), (7, 8), (8, 9), (9, 10)]\n"
     ]
    }
   ],
   "source": [
    "List1=[]\n",
    "for i in enumerate(range(1,11)):\n",
    "    print(\"i: \", i, '| i[0]: ', i[0], ' | i[1]: ', i[1])\n",
    "    List1.append(i)\n",
    "print(List1)"
   ]
  },
  {
   "cell_type": "code",
   "execution_count": 31,
   "metadata": {},
   "outputs": [
    {
     "name": "stdout",
     "output_type": "stream",
     "text": [
      "i:  (0, 'a') | i[0]:  0  | i[1]:  a\n",
      "i:  (1, 'b') | i[0]:  1  | i[1]:  b\n",
      "i:  (2, 'c') | i[0]:  2  | i[1]:  c\n",
      "i:  (3, 'd') | i[0]:  3  | i[1]:  d\n",
      "i:  (4, 'e') | i[0]:  4  | i[1]:  e\n",
      "i:  (5, 'f') | i[0]:  5  | i[1]:  f\n"
     ]
    }
   ],
   "source": [
    "List2=['a','b','c','d','e','f']\n",
    "for i in enumerate(List2):\n",
    "    print(\"i: \", i, '| i[0]: ', i[0], ' | i[1]: ', i[1])"
   ]
  },
  {
   "cell_type": "code",
   "execution_count": 26,
   "metadata": {},
   "outputs": [
    {
     "data": {
      "text/plain": [
       "10"
      ]
     },
     "execution_count": 26,
     "metadata": {},
     "output_type": "execute_result"
    }
   ],
   "source": [
    "i[1]"
   ]
  },
  {
   "cell_type": "code",
   "execution_count": 12,
   "metadata": {},
   "outputs": [
    {
     "name": "stdout",
     "output_type": "stream",
     "text": [
      "[0, 1, 2, 3, 4, 5, 6, 7, 8, 9]\n",
      "4.5\n"
     ]
    }
   ],
   "source": [
    "# Generate List3 _Method1\n",
    "List3=[]\n",
    "for i,v in enumerate(range(1,11)):\n",
    "    List3.append(i)\n",
    "print(List3)\n",
    "\n",
    "\n",
    "# Calculate the average of List3\n",
    "for i,v in enumerate(range(1,11)):\n",
    "    break\n",
    "\n",
    "print(sum(List3)/len(List3))"
   ]
  },
  {
   "cell_type": "code",
   "execution_count": 14,
   "metadata": {},
   "outputs": [
    {
     "name": "stdout",
     "output_type": "stream",
     "text": [
      "4.5\n"
     ]
    }
   ],
   "source": [
    "# Generate List3_Method2\n",
    "result=0\n",
    "List13=[]\n",
    "for i,v in enumerate(range(1,11)):\n",
    "    List13.append(i)\n",
    "    result=result+i\n",
    "print(result/len(List13))\n",
    "\n"
   ]
  },
  {
   "cell_type": "code",
   "execution_count": null,
   "metadata": {},
   "outputs": [],
   "source": []
  }
 ],
 "metadata": {
  "kernelspec": {
   "display_name": "Python 3",
   "language": "python",
   "name": "python3"
  },
  "language_info": {
   "codemirror_mode": {
    "name": "ipython",
    "version": 3
   },
   "file_extension": ".py",
   "mimetype": "text/x-python",
   "name": "python",
   "nbconvert_exporter": "python",
   "pygments_lexer": "ipython3",
   "version": "3.7.6"
  }
 },
 "nbformat": 4,
 "nbformat_minor": 4
}
