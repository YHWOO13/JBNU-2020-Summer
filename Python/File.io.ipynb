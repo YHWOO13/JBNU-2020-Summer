{
 "cells": [
  {
   "cell_type": "code",
   "execution_count": 16,
   "metadata": {},
   "outputs": [],
   "source": [
    "import csv"
   ]
  },
  {
   "cell_type": "code",
   "execution_count": 23,
   "metadata": {},
   "outputs": [
    {
     "name": "stdout",
     "output_type": "stream",
     "text": [
      "['\\ufeff100']\n",
      "['80']\n",
      "['90']\n",
      "['10']\n",
      "['30']\n",
      "['60']\n",
      "['70']\n",
      "['70']\n",
      "['0']\n",
      "['100']\n"
     ]
    }
   ],
   "source": [
    "#파일을 여는 방법\n",
    "\n",
    "file = open('example.csv', 'r', encoding='utf-8')\n",
    "\n",
    "#파일을 주어서 파일을 읽는 객체'rdr'를 생성\n",
    "rdr = csv.reader(file)\n",
    "\n",
    "#파일 안에 있는 내용을 한줄씩 가져온다.\n",
    "for line in rdr:\n",
    "    print(line)\n",
    "    \n",
    "#파일을 다 읽었으니 파일을 닫는다.\n",
    "file.close()\n"
   ]
  },
  {
   "cell_type": "code",
   "execution_count": 87,
   "metadata": {},
   "outputs": [
    {
     "name": "stdout",
     "output_type": "stream",
     "text": [
      "Line:  100\n",
      "List:  [100]\n",
      "\n",
      "Line:  80\n",
      "List:  [100, 80]\n",
      "\n",
      "Line:  90\n",
      "List:  [100, 80, 90]\n",
      "\n",
      "Line:  10\n",
      "List:  [100, 80, 90, 10]\n",
      "\n",
      "Line:  30\n",
      "List:  [100, 80, 90, 10, 30]\n",
      "\n",
      "Line:  60\n",
      "List:  [100, 80, 90, 10, 30, 60]\n",
      "\n",
      "Line:  70\n",
      "List:  [100, 80, 90, 10, 30, 60, 70]\n",
      "\n",
      "Line:  70\n",
      "List:  [100, 80, 90, 10, 30, 60, 70, 70]\n",
      "\n",
      "Line:  0\n",
      "List:  [100, 80, 90, 10, 30, 60, 70, 70, 0]\n",
      "\n",
      "Line:  100\n",
      "List:  [100, 80, 90, 10, 30, 60, 70, 70, 0, 100]\n",
      "\n",
      "61.0\n"
     ]
    }
   ],
   "source": [
    "# open file open('파일명','r:나는 이파일을 읽기용으로 쓰겠다', enconding='utf-8') \n",
    "                           #'w':나는 이 파일을 쓰기용으로 쓰겠다\n",
    "\n",
    "file = open('example.csv', 'r', encoding='utf-8')\n",
    "# variable to save the file contents\n",
    "List=[]\n",
    "# create the reading object\n",
    "rdr = csv.reader(file)\n",
    "# Read file\n",
    "# '첫번째 행은 생략해준다'라는 의미\n",
    "for index, line in enumerate(rdr):\n",
    "    if index==0:\n",
    "        continue\n",
    "    # Print the line contents\n",
    "    print(\"Line: \", line[0])\n",
    "    # append (save) the line contents\n",
    "    List.append(int(line[0]))\n",
    "    print(\"List: \", List)\n",
    "    print()\n",
    "    List[0:]\n",
    "print(sum(List)/len(List))\n",
    "file.close()\n",
    "\n",
    "f=open('result.csv', 'w', encoding='utf-8')\n",
    "wr=csv.writer(f)\n",
    "wr.writerow([sum(List)/len(List)])\n",
    "f.close()\n"
   ]
  },
  {
   "cell_type": "code",
   "execution_count": 45,
   "metadata": {},
   "outputs": [],
   "source": [
    "a = [1,2,3,4,5,6]"
   ]
  },
  {
   "cell_type": "code",
   "execution_count": 46,
   "metadata": {},
   "outputs": [
    {
     "data": {
      "text/plain": [
       "[2, 3, 4, 5, 6]"
      ]
     },
     "execution_count": 46,
     "metadata": {},
     "output_type": "execute_result"
    }
   ],
   "source": [
    "b=a[1:]\n",
    "b"
   ]
  },
  {
   "cell_type": "code",
   "execution_count": 35,
   "metadata": {},
   "outputs": [
    {
     "data": {
      "text/plain": [
       "[5, 6]"
      ]
     },
     "execution_count": 35,
     "metadata": {},
     "output_type": "execute_result"
    }
   ],
   "source": [
    "a[4:]"
   ]
  },
  {
   "cell_type": "code",
   "execution_count": 36,
   "metadata": {},
   "outputs": [
    {
     "data": {
      "text/plain": [
       "[3, 4]"
      ]
     },
     "execution_count": 36,
     "metadata": {},
     "output_type": "execute_result"
    }
   ],
   "source": [
    "a[2:4]"
   ]
  },
  {
   "cell_type": "code",
   "execution_count": 39,
   "metadata": {},
   "outputs": [
    {
     "data": {
      "text/plain": [
       "[1, 2, 3, 4, 5]"
      ]
     },
     "execution_count": 39,
     "metadata": {},
     "output_type": "execute_result"
    }
   ],
   "source": [
    "a.pop()\n",
    "a"
   ]
  },
  {
   "cell_type": "code",
   "execution_count": 42,
   "metadata": {},
   "outputs": [
    {
     "data": {
      "text/plain": [
       "[2, 3, 4, 5, 6]"
      ]
     },
     "execution_count": 42,
     "metadata": {},
     "output_type": "execute_result"
    }
   ],
   "source": [
    "a.pop(0)\n",
    "a"
   ]
  },
  {
   "cell_type": "code",
   "execution_count": 44,
   "metadata": {},
   "outputs": [
    {
     "data": {
      "text/plain": [
       "[3, 4, 5, 6]"
      ]
     },
     "execution_count": 44,
     "metadata": {},
     "output_type": "execute_result"
    }
   ],
   "source": [
    "b"
   ]
  },
  {
   "cell_type": "code",
   "execution_count": 51,
   "metadata": {},
   "outputs": [
    {
     "data": {
      "text/plain": [
       "3"
      ]
     },
     "execution_count": 51,
     "metadata": {},
     "output_type": "execute_result"
    }
   ],
   "source": [
    "a[2]"
   ]
  },
  {
   "cell_type": "code",
   "execution_count": 52,
   "metadata": {},
   "outputs": [],
   "source": [
    "c=[3]"
   ]
  },
  {
   "cell_type": "code",
   "execution_count": 53,
   "metadata": {},
   "outputs": [
    {
     "data": {
      "text/plain": [
       "3"
      ]
     },
     "execution_count": 53,
     "metadata": {},
     "output_type": "execute_result"
    }
   ],
   "source": [
    "c[0]"
   ]
  },
  {
   "cell_type": "code",
   "execution_count": 54,
   "metadata": {},
   "outputs": [],
   "source": [
    "d=['80']"
   ]
  },
  {
   "cell_type": "code",
   "execution_count": 55,
   "metadata": {},
   "outputs": [
    {
     "data": {
      "text/plain": [
       "'80'"
      ]
     },
     "execution_count": 55,
     "metadata": {},
     "output_type": "execute_result"
    }
   ],
   "source": [
    "d[0]"
   ]
  },
  {
   "cell_type": "code",
   "execution_count": 56,
   "metadata": {},
   "outputs": [],
   "source": [
    "line=['100']"
   ]
  },
  {
   "cell_type": "code",
   "execution_count": 57,
   "metadata": {},
   "outputs": [
    {
     "data": {
      "text/plain": [
       "'100'"
      ]
     },
     "execution_count": 57,
     "metadata": {},
     "output_type": "execute_result"
    }
   ],
   "source": [
    "line[0]"
   ]
  },
  {
   "cell_type": "code",
   "execution_count": null,
   "metadata": {},
   "outputs": [],
   "source": []
  }
 ],
 "metadata": {
  "kernelspec": {
   "display_name": "Python 3",
   "language": "python",
   "name": "python3"
  },
  "language_info": {
   "codemirror_mode": {
    "name": "ipython",
    "version": 3
   },
   "file_extension": ".py",
   "mimetype": "text/x-python",
   "name": "python",
   "nbconvert_exporter": "python",
   "pygments_lexer": "ipython3",
   "version": "3.7.6"
  }
 },
 "nbformat": 4,
 "nbformat_minor": 4
}
