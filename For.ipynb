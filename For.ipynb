{
 "cells": [
  {
   "cell_type": "code",
   "execution_count": 6,
   "metadata": {},
   "outputs": [
    {
     "name": "stdout",
     "output_type": "stream",
     "text": [
      "0\n",
      "1\n",
      "2\n",
      "3\n",
      "4\n",
      "5\n",
      "6\n",
      "7\n",
      "8\n",
      "9\n",
      "10\n"
     ]
    }
   ],
   "source": [
    "for i in range(0,10+1):\n",
    "    print(i)"
   ]
  },
  {
   "cell_type": "code",
   "execution_count": 4,
   "metadata": {},
   "outputs": [
    {
     "name": "stdout",
     "output_type": "stream",
     "text": [
      "2\n",
      "3\n",
      "4\n",
      "5\n",
      "6\n",
      "7\n",
      "8\n"
     ]
    }
   ],
   "source": [
    "for i in range(2,9):\n",
    "    print(i)"
   ]
  },
  {
   "cell_type": "code",
   "execution_count": 10,
   "metadata": {},
   "outputs": [
    {
     "name": "stdout",
     "output_type": "stream",
     "text": [
      "0 :  1\n",
      "1 :  2\n",
      "2 :  3\n",
      "3 :  4\n",
      "4 :  5\n",
      "5 :  6\n",
      "6 :  7\n",
      "7 :  8\n",
      "8 :  9\n",
      "9 :  10\n"
     ]
    }
   ],
   "source": [
    "for index, value in enumerate(range(1, 11)):\n",
    "    print(index, \": \", value)"
   ]
  },
  {
   "cell_type": "code",
   "execution_count": 14,
   "metadata": {},
   "outputs": [
    {
     "name": "stdout",
     "output_type": "stream",
     "text": [
      "0 :  a\n",
      "1 :  b\n",
      "2 :  c\n",
      "3 :  d\n"
     ]
    }
   ],
   "source": [
    "for i, v in enumerate(range(1, 11)):\n",
    "    print(i, \": \", v)"
   ]
  },
  {
   "cell_type": "code",
   "execution_count": 21,
   "metadata": {},
   "outputs": [
    {
     "name": "stdout",
     "output_type": "stream",
     "text": [
      "0 : 1\n",
      "1 : 2\n",
      "2 : 3\n",
      "3 : 4\n",
      "4 : 5\n",
      "5 : 6\n",
      "6 : 7\n",
      "7 : 8\n",
      "8 : 9\n",
      "9 : 10\n"
     ]
    }
   ],
   "source": [
    "for i, v in enumerate(range(1, 11)):\n",
    "    print('%d : %d' %(i, v))"
   ]
  },
  {
   "cell_type": "code",
   "execution_count": 27,
   "metadata": {},
   "outputs": [
    {
     "name": "stdout",
     "output_type": "stream",
     "text": [
      "  8 :   0\n",
      "  9 :   1\n",
      " 10 :   2\n",
      " 11 :   3\n",
      " 12 :   4\n"
     ]
    }
   ],
   "source": [
    "#숫자를 이용한 자리 맞추기\n",
    "for i, v in enumerate(range(8, 13)):\n",
    "    print('%3d : %3d' %(v, i))"
   ]
  },
  {
   "cell_type": "code",
   "execution_count": null,
   "metadata": {},
   "outputs": [],
   "source": []
  }
 ],
 "metadata": {
  "kernelspec": {
   "display_name": "Python 3",
   "language": "python",
   "name": "python3"
  },
  "language_info": {
   "codemirror_mode": {
    "name": "ipython",
    "version": 3
   },
   "file_extension": ".py",
   "mimetype": "text/x-python",
   "name": "python",
   "nbconvert_exporter": "python",
   "pygments_lexer": "ipython3",
   "version": "3.7.6"
  }
 },
 "nbformat": 4,
 "nbformat_minor": 4
}
